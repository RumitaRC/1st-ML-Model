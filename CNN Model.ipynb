{
 "cells": [
  {
   "cell_type": "code",
   "execution_count": 5,
   "id": "0827c84e",
   "metadata": {},
   "outputs": [],
   "source": [
    "import tensorflow as tf\n",
    "from tensorflow.keras import datasets, layers, models\n",
    "import matplotlib.pyplot as plt\n",
    "from sklearn.model_selection import train_test_split"
   ]
  },
  {
   "cell_type": "code",
   "execution_count": 6,
   "id": "39e8ce5f",
   "metadata": {},
   "outputs": [],
   "source": [
    "(train_images, train_labels), (test_images, test_labels) = datasets.cifar10.load_data()"
   ]
  },
  {
   "cell_type": "code",
   "execution_count": 7,
   "id": "fa8cf110",
   "metadata": {},
   "outputs": [],
   "source": [
    "train_images, test_images = train_images / 255.0, test_images / 255.0"
   ]
  },
  {
   "cell_type": "code",
   "execution_count": 8,
   "id": "c37096f2",
   "metadata": {},
   "outputs": [],
   "source": [
    "train_images, val_images, train_labels, val_labels = train_test_split(train_images, train_labels, test_size=0.2, random_state=42)"
   ]
  },
  {
   "cell_type": "code",
   "execution_count": 9,
   "id": "e5fab825",
   "metadata": {},
   "outputs": [
    {
     "name": "stderr",
     "output_type": "stream",
     "text": [
      "C:\\Users\\KIIT0001\\anaconda3\\envs\\pytorch\\lib\\site-packages\\keras\\src\\layers\\convolutional\\base_conv.py:107: UserWarning: Do not pass an `input_shape`/`input_dim` argument to a layer. When using Sequential models, prefer using an `Input(shape)` object as the first layer in the model instead.\n",
      "  super().__init__(activity_regularizer=activity_regularizer, **kwargs)\n"
     ]
    }
   ],
   "source": [
    "model = models.Sequential([\n",
    "    layers.Conv2D(32, (3, 3), activation='relu', input_shape=(32, 32, 3)),\n",
    "    layers.MaxPooling2D((2, 2)),\n",
    "    layers.Conv2D(64, (3, 3), activation='relu'),\n",
    "    layers.MaxPooling2D((2, 2)),\n",
    "    layers.Conv2D(64, (3, 3), activation='relu'),\n",
    "    layers.Flatten(),\n",
    "    layers.Dense(64, activation='relu'),\n",
    "    layers.Dense(10)  # 10 classes in CIFAR-10\n",
    "])"
   ]
  },
  {
   "cell_type": "code",
   "execution_count": 10,
   "id": "1cc6a67c",
   "metadata": {},
   "outputs": [],
   "source": [
    "model.compile(optimizer='adam',\n",
    "              loss=tf.keras.losses.SparseCategoricalCrossentropy(from_logits=True),\n",
    "              metrics=['accuracy'])"
   ]
  },
  {
   "cell_type": "code",
   "execution_count": 11,
   "id": "4931d211",
   "metadata": {},
   "outputs": [
    {
     "name": "stdout",
     "output_type": "stream",
     "text": [
      "Epoch 1/30\n",
      "\u001b[1m1250/1250\u001b[0m \u001b[32m━━━━━━━━━━━━━━━━━━━━\u001b[0m\u001b[37m\u001b[0m \u001b[1m55s\u001b[0m 42ms/step - accuracy: 0.3239 - loss: 1.8256 - val_accuracy: 0.5098 - val_loss: 1.3318\n",
      "Epoch 2/30\n",
      "\u001b[1m1250/1250\u001b[0m \u001b[32m━━━━━━━━━━━━━━━━━━━━\u001b[0m\u001b[37m\u001b[0m \u001b[1m82s\u001b[0m 41ms/step - accuracy: 0.5408 - loss: 1.2781 - val_accuracy: 0.6000 - val_loss: 1.1135\n",
      "Epoch 3/30\n",
      "\u001b[1m1250/1250\u001b[0m \u001b[32m━━━━━━━━━━━━━━━━━━━━\u001b[0m\u001b[37m\u001b[0m \u001b[1m83s\u001b[0m 41ms/step - accuracy: 0.6071 - loss: 1.1064 - val_accuracy: 0.6045 - val_loss: 1.1043\n",
      "Epoch 4/30\n",
      "\u001b[1m1250/1250\u001b[0m \u001b[32m━━━━━━━━━━━━━━━━━━━━\u001b[0m\u001b[37m\u001b[0m \u001b[1m53s\u001b[0m 42ms/step - accuracy: 0.6476 - loss: 0.9995 - val_accuracy: 0.6306 - val_loss: 1.0605\n",
      "Epoch 5/30\n",
      "\u001b[1m1250/1250\u001b[0m \u001b[32m━━━━━━━━━━━━━━━━━━━━\u001b[0m\u001b[37m\u001b[0m \u001b[1m83s\u001b[0m 42ms/step - accuracy: 0.6717 - loss: 0.9256 - val_accuracy: 0.6513 - val_loss: 0.9980\n",
      "Epoch 6/30\n",
      "\u001b[1m1250/1250\u001b[0m \u001b[32m━━━━━━━━━━━━━━━━━━━━\u001b[0m\u001b[37m\u001b[0m \u001b[1m55s\u001b[0m 44ms/step - accuracy: 0.6938 - loss: 0.8686 - val_accuracy: 0.6760 - val_loss: 0.9300\n",
      "Epoch 7/30\n",
      "\u001b[1m1250/1250\u001b[0m \u001b[32m━━━━━━━━━━━━━━━━━━━━\u001b[0m\u001b[37m\u001b[0m \u001b[1m81s\u001b[0m 43ms/step - accuracy: 0.7216 - loss: 0.8007 - val_accuracy: 0.6851 - val_loss: 0.9075\n",
      "Epoch 8/30\n",
      "\u001b[1m1250/1250\u001b[0m \u001b[32m━━━━━━━━━━━━━━━━━━━━\u001b[0m\u001b[37m\u001b[0m \u001b[1m53s\u001b[0m 43ms/step - accuracy: 0.7352 - loss: 0.7485 - val_accuracy: 0.6900 - val_loss: 0.9042\n",
      "Epoch 9/30\n",
      "\u001b[1m1250/1250\u001b[0m \u001b[32m━━━━━━━━━━━━━━━━━━━━\u001b[0m\u001b[37m\u001b[0m \u001b[1m54s\u001b[0m 43ms/step - accuracy: 0.7505 - loss: 0.7190 - val_accuracy: 0.6826 - val_loss: 0.9449\n",
      "Epoch 10/30\n",
      "\u001b[1m1250/1250\u001b[0m \u001b[32m━━━━━━━━━━━━━━━━━━━━\u001b[0m\u001b[37m\u001b[0m \u001b[1m53s\u001b[0m 42ms/step - accuracy: 0.7657 - loss: 0.6703 - val_accuracy: 0.6756 - val_loss: 0.9687\n",
      "Epoch 11/30\n",
      "\u001b[1m1250/1250\u001b[0m \u001b[32m━━━━━━━━━━━━━━━━━━━━\u001b[0m\u001b[37m\u001b[0m \u001b[1m55s\u001b[0m 44ms/step - accuracy: 0.7746 - loss: 0.6409 - val_accuracy: 0.7013 - val_loss: 0.8984\n",
      "Epoch 12/30\n",
      "\u001b[1m1250/1250\u001b[0m \u001b[32m━━━━━━━━━━━━━━━━━━━━\u001b[0m\u001b[37m\u001b[0m \u001b[1m81s\u001b[0m 42ms/step - accuracy: 0.7897 - loss: 0.5938 - val_accuracy: 0.6874 - val_loss: 0.9668\n",
      "Epoch 13/30\n",
      "\u001b[1m1250/1250\u001b[0m \u001b[32m━━━━━━━━━━━━━━━━━━━━\u001b[0m\u001b[37m\u001b[0m \u001b[1m51s\u001b[0m 41ms/step - accuracy: 0.7980 - loss: 0.5715 - val_accuracy: 0.6842 - val_loss: 0.9559\n",
      "Epoch 14/30\n",
      "\u001b[1m1250/1250\u001b[0m \u001b[32m━━━━━━━━━━━━━━━━━━━━\u001b[0m\u001b[37m\u001b[0m \u001b[1m86s\u001b[0m 44ms/step - accuracy: 0.8164 - loss: 0.5199 - val_accuracy: 0.6985 - val_loss: 0.9597\n",
      "Epoch 15/30\n",
      "\u001b[1m1250/1250\u001b[0m \u001b[32m━━━━━━━━━━━━━━━━━━━━\u001b[0m\u001b[37m\u001b[0m \u001b[1m54s\u001b[0m 43ms/step - accuracy: 0.8203 - loss: 0.5066 - val_accuracy: 0.6922 - val_loss: 0.9826\n",
      "Epoch 16/30\n",
      "\u001b[1m1250/1250\u001b[0m \u001b[32m━━━━━━━━━━━━━━━━━━━━\u001b[0m\u001b[37m\u001b[0m \u001b[1m81s\u001b[0m 42ms/step - accuracy: 0.8371 - loss: 0.4643 - val_accuracy: 0.6905 - val_loss: 1.0306\n",
      "Epoch 17/30\n",
      "\u001b[1m1250/1250\u001b[0m \u001b[32m━━━━━━━━━━━━━━━━━━━━\u001b[0m\u001b[37m\u001b[0m \u001b[1m81s\u001b[0m 41ms/step - accuracy: 0.8411 - loss: 0.4487 - val_accuracy: 0.6951 - val_loss: 1.0438\n",
      "Epoch 18/30\n",
      "\u001b[1m1250/1250\u001b[0m \u001b[32m━━━━━━━━━━━━━━━━━━━━\u001b[0m\u001b[37m\u001b[0m \u001b[1m37s\u001b[0m 29ms/step - accuracy: 0.8478 - loss: 0.4304 - val_accuracy: 0.6913 - val_loss: 1.1091\n",
      "Epoch 19/30\n",
      "\u001b[1m1250/1250\u001b[0m \u001b[32m━━━━━━━━━━━━━━━━━━━━\u001b[0m\u001b[37m\u001b[0m \u001b[1m39s\u001b[0m 27ms/step - accuracy: 0.8596 - loss: 0.3950 - val_accuracy: 0.6994 - val_loss: 1.1379\n",
      "Epoch 20/30\n",
      "\u001b[1m1250/1250\u001b[0m \u001b[32m━━━━━━━━━━━━━━━━━━━━\u001b[0m\u001b[37m\u001b[0m \u001b[1m43s\u001b[0m 29ms/step - accuracy: 0.8607 - loss: 0.3854 - val_accuracy: 0.6816 - val_loss: 1.1859\n",
      "Epoch 21/30\n",
      "\u001b[1m1250/1250\u001b[0m \u001b[32m━━━━━━━━━━━━━━━━━━━━\u001b[0m\u001b[37m\u001b[0m \u001b[1m38s\u001b[0m 30ms/step - accuracy: 0.8788 - loss: 0.3449 - val_accuracy: 0.6878 - val_loss: 1.1524\n",
      "Epoch 22/30\n",
      "\u001b[1m1250/1250\u001b[0m \u001b[32m━━━━━━━━━━━━━━━━━━━━\u001b[0m\u001b[37m\u001b[0m \u001b[1m37s\u001b[0m 30ms/step - accuracy: 0.8838 - loss: 0.3243 - val_accuracy: 0.6887 - val_loss: 1.2634\n",
      "Epoch 23/30\n",
      "\u001b[1m1250/1250\u001b[0m \u001b[32m━━━━━━━━━━━━━━━━━━━━\u001b[0m\u001b[37m\u001b[0m \u001b[1m35s\u001b[0m 28ms/step - accuracy: 0.8933 - loss: 0.3090 - val_accuracy: 0.6929 - val_loss: 1.2611\n",
      "Epoch 24/30\n",
      "\u001b[1m1250/1250\u001b[0m \u001b[32m━━━━━━━━━━━━━━━━━━━━\u001b[0m\u001b[37m\u001b[0m \u001b[1m36s\u001b[0m 29ms/step - accuracy: 0.8988 - loss: 0.2843 - val_accuracy: 0.6848 - val_loss: 1.2941\n",
      "Epoch 25/30\n",
      "\u001b[1m1250/1250\u001b[0m \u001b[32m━━━━━━━━━━━━━━━━━━━━\u001b[0m\u001b[37m\u001b[0m \u001b[1m36s\u001b[0m 29ms/step - accuracy: 0.9011 - loss: 0.2778 - val_accuracy: 0.6871 - val_loss: 1.3754\n",
      "Epoch 26/30\n",
      "\u001b[1m1250/1250\u001b[0m \u001b[32m━━━━━━━━━━━━━━━━━━━━\u001b[0m\u001b[37m\u001b[0m \u001b[1m38s\u001b[0m 30ms/step - accuracy: 0.9062 - loss: 0.2625 - val_accuracy: 0.6796 - val_loss: 1.4466\n",
      "Epoch 27/30\n",
      "\u001b[1m1250/1250\u001b[0m \u001b[32m━━━━━━━━━━━━━━━━━━━━\u001b[0m\u001b[37m\u001b[0m \u001b[1m39s\u001b[0m 31ms/step - accuracy: 0.9135 - loss: 0.2412 - val_accuracy: 0.6841 - val_loss: 1.4848\n",
      "Epoch 28/30\n",
      "\u001b[1m1250/1250\u001b[0m \u001b[32m━━━━━━━━━━━━━━━━━━━━\u001b[0m\u001b[37m\u001b[0m \u001b[1m37s\u001b[0m 29ms/step - accuracy: 0.9170 - loss: 0.2279 - val_accuracy: 0.6806 - val_loss: 1.5968\n",
      "Epoch 29/30\n",
      "\u001b[1m1250/1250\u001b[0m \u001b[32m━━━━━━━━━━━━━━━━━━━━\u001b[0m\u001b[37m\u001b[0m \u001b[1m37s\u001b[0m 30ms/step - accuracy: 0.9214 - loss: 0.2203 - val_accuracy: 0.6836 - val_loss: 1.6402\n",
      "Epoch 30/30\n",
      "\u001b[1m1250/1250\u001b[0m \u001b[32m━━━━━━━━━━━━━━━━━━━━\u001b[0m\u001b[37m\u001b[0m \u001b[1m36s\u001b[0m 28ms/step - accuracy: 0.9275 - loss: 0.2053 - val_accuracy: 0.6782 - val_loss: 1.7181\n"
     ]
    }
   ],
   "source": [
    "history = model.fit(train_images, train_labels, epochs=30, \n",
    "                    validation_data=(val_images, val_labels))"
   ]
  },
  {
   "cell_type": "code",
   "execution_count": 12,
   "id": "c9b30945",
   "metadata": {},
   "outputs": [
    {
     "name": "stdout",
     "output_type": "stream",
     "text": [
      "313/313 - 3s - 10ms/step - accuracy: 0.6742 - loss: 1.6972\n",
      "Test accuracy: 67.42%\n"
     ]
    }
   ],
   "source": [
    "test_loss, test_acc = model.evaluate(test_images, test_labels, verbose=2)\n",
    "print(f\"Test accuracy: {test_acc * 100:.2f}%\")"
   ]
  },
  {
   "cell_type": "code",
   "execution_count": 14,
   "id": "e89106c6",
   "metadata": {},
   "outputs": [],
   "source": [
    " model.save('cnn_cifar10_model.keras')"
   ]
  },
  {
   "cell_type": "code",
   "execution_count": 15,
   "id": "5295a47b",
   "metadata": {},
   "outputs": [],
   "source": [
    "from flask import Flask, request, jsonify\n",
    "import numpy as np\n",
    "import tensorflow as tf\n",
    "from tensorflow.keras.models import load_model\n",
    "from PIL import Image\n",
    "import io"
   ]
  },
  {
   "cell_type": "code",
   "execution_count": 16,
   "id": "0b8dbaf7",
   "metadata": {},
   "outputs": [],
   "source": [
    "app = Flask(__name__)"
   ]
  },
  {
   "cell_type": "code",
   "execution_count": 17,
   "id": "c94b7ff8",
   "metadata": {
    "scrolled": true
   },
   "outputs": [
    {
     "name": "stderr",
     "output_type": "stream",
     "text": [
      "C:\\Users\\KIIT0001\\anaconda3\\envs\\pytorch\\lib\\site-packages\\keras\\src\\saving\\saving_lib.py:713: UserWarning: Skipping variable loading for optimizer 'rmsprop', because it has 12 variables whereas the saved optimizer has 22 variables. \n",
      "  saveable.load_own_variables(weights_store.get(inner_path))\n"
     ]
    }
   ],
   "source": [
    "model = load_model('cnn_cifar10_model.keras')"
   ]
  },
  {
   "cell_type": "code",
   "execution_count": 18,
   "id": "db9e1f3a",
   "metadata": {},
   "outputs": [],
   "source": [
    "class_names = ['airplane', 'automobile', 'bird', 'cat', 'deer', \n",
    "               'dog', 'frog', 'horse', 'ship', 'truck']"
   ]
  },
  {
   "cell_type": "code",
   "execution_count": 23,
   "id": "9a4ce3ff",
   "metadata": {},
   "outputs": [],
   "source": [
    "@app.route('/predict', methods=['POST'], endpoint='predict_v1')\n",
    "def predict():\n",
    "   \n",
    "    pass\n",
    "\n",
    "@app.route('/predict', methods=['POST'], endpoint='predict_v2')\n",
    "def predict_v2():\n",
    "    \n",
    "    pass\n"
   ]
  },
  {
   "cell_type": "code",
   "execution_count": 25,
   "id": "9eab83a4",
   "metadata": {},
   "outputs": [],
   "source": [
    "from PIL import Image\n",
    "import numpy as np\n",
    "\n",
    "def preprocess_image(image_path):\n",
    "    \n",
    "    image = Image.open(image_path)\n",
    "    \n",
    "    \n",
    "    image = image.resize((32, 32))\n",
    "    \n",
    "    \n",
    "    image_array = np.array(image)\n",
    "    \n",
    "   \n",
    "    image_array = image_array / 255.0\n",
    "    \n",
    "   \n",
    "    image_array = np.expand_dims(image_array, axis=0)\n",
    "    \n",
    "    return image_array\n"
   ]
  },
  {
   "cell_type": "code",
   "execution_count": null,
   "id": "f1b861f2",
   "metadata": {},
   "outputs": [],
   "source": [
    "import numpy as np\n",
    "\n",
    "\n",
    "def make_prediction(predictions, class_names):\n",
    "   \n",
    "    predicted_class_index = np.argmax(predictions)\n",
    "    \n",
    "    \n",
    "    predicted_class = class_names[predicted_class_index]\n",
    "    \n",
    "    return predicted_class\n"
   ]
  },
  {
   "cell_type": "code",
   "execution_count": null,
   "id": "2f8218f3",
   "metadata": {},
   "outputs": [],
   "source": [
    "def predict():\n",
    "   \n",
    "    return jsonify({\n",
    "        'result': 'value'\n",
    "    })\n"
   ]
  },
  {
   "cell_type": "code",
   "execution_count": null,
   "id": "e1d8c8e1",
   "metadata": {},
   "outputs": [],
   "source": [
    "if __name__ == '__main__':\n",
    "    app.run(debug=True, port=5001)"
   ]
  },
  {
   "cell_type": "code",
   "execution_count": null,
   "id": "b1accec4",
   "metadata": {},
   "outputs": [],
   "source": [
    "from flask import Flask, request, jsonify\n",
    "\n",
    "app = Flask(__name__)\n",
    "\n",
    "@app.route('/submit_feedback', methods=['POST'])\n",
    "def submit_feedback():\n",
    "    name = request.form['name']\n",
    "    email = request.form['email']\n",
    "    feedback = request.form['feedback']\n",
    "\n",
    "\n",
    "    return jsonify({'message': 'Feedback submitted successfully'})"
   ]
  },
  {
   "cell_type": "code",
   "execution_count": null,
   "id": "95fee9d4",
   "metadata": {},
   "outputs": [],
   "source": []
  }
 ],
 "metadata": {
  "kernelspec": {
   "display_name": "Python 3 (ipykernel)",
   "language": "python",
   "name": "python3"
  },
  "language_info": {
   "codemirror_mode": {
    "name": "ipython",
    "version": 3
   },
   "file_extension": ".py",
   "mimetype": "text/x-python",
   "name": "python",
   "nbconvert_exporter": "python",
   "pygments_lexer": "ipython3",
   "version": "3.10.4"
  }
 },
 "nbformat": 4,
 "nbformat_minor": 5
}
